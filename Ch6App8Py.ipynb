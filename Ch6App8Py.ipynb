{
 "cells": [
  {
   "cell_type": "markdown",
   "metadata": {},
   "source": [
    "Adam Prado\n",
    "Pace U. Data Science \n",
    "4/1/24\n",
    "\n",
    "Chapter 6, Applied #8"
   ]
  },
  {
   "cell_type": "markdown",
   "metadata": {},
   "source": [
    "Importing the libraries, probably more than I used, I just grabbed them all from the Lab examples to be safe."
   ]
  },
  {
   "cell_type": "code",
   "execution_count": 67,
   "metadata": {},
   "outputs": [],
   "source": [
    "import numpy as np\n",
    "import pandas as pd\n",
    "from matplotlib.pyplot import subplots \n",
    "from statsmodels.api import OLS\n",
    "import sklearn.model_selection as skm\n",
    "import sklearn.linear_model as skl\n",
    "from sklearn.preprocessing import StandardScaler\n",
    "from ISLP import load_data\n",
    "from ISLP.models import ModelSpec as MS\n",
    "from functools import partial\n",
    "from sklearn.pipeline import Pipeline \n",
    "from sklearn.decomposition import PCA \n",
    "from sklearn.cross_decomposition import PLSRegression\n",
    "from ISLP.models import (Stepwise, sklearn_selected, sklearn_selection_path)\n",
    "from l0bnb import fit_path\n",
    "\n",
    "import statsmodels.api as sm \n"
   ]
  },
  {
   "cell_type": "markdown",
   "metadata": {},
   "source": [
    "a) Creates 100 random predictor variables, X, and 100 noise values."
   ]
  },
  {
   "cell_type": "code",
   "execution_count": 68,
   "metadata": {},
   "outputs": [
    {
     "data": {
      "text/plain": [
       "array([ 1.62434536, -0.61175641, -0.52817175, -1.07296862,  0.86540763,\n",
       "       -2.3015387 ,  1.74481176, -0.7612069 ,  0.3190391 , -0.24937038,\n",
       "        1.46210794, -2.06014071, -0.3224172 , -0.38405435,  1.13376944,\n",
       "       -1.09989127, -0.17242821, -0.87785842,  0.04221375,  0.58281521,\n",
       "       -1.10061918,  1.14472371,  0.90159072,  0.50249434,  0.90085595,\n",
       "       -0.68372786, -0.12289023, -0.93576943, -0.26788808,  0.53035547,\n",
       "       -0.69166075, -0.39675353, -0.6871727 , -0.84520564, -0.67124613,\n",
       "       -0.0126646 , -1.11731035,  0.2344157 ,  1.65980218,  0.74204416,\n",
       "       -0.19183555, -0.88762896, -0.74715829,  1.6924546 ,  0.05080775,\n",
       "       -0.63699565,  0.19091548,  2.10025514,  0.12015895,  0.61720311,\n",
       "        0.30017032, -0.35224985, -1.1425182 , -0.34934272, -0.20889423,\n",
       "        0.58662319,  0.83898341,  0.93110208,  0.28558733,  0.88514116,\n",
       "       -0.75439794,  1.25286816,  0.51292982, -0.29809284,  0.48851815,\n",
       "       -0.07557171,  1.13162939,  1.51981682,  2.18557541, -1.39649634,\n",
       "       -1.44411381, -0.50446586,  0.16003707,  0.87616892,  0.31563495,\n",
       "       -2.02220122, -0.30620401,  0.82797464,  0.23009474,  0.76201118,\n",
       "       -0.22232814, -0.20075807,  0.18656139,  0.41005165,  0.19829972,\n",
       "        0.11900865, -0.67066229,  0.37756379,  0.12182127,  1.12948391,\n",
       "        1.19891788,  0.18515642, -0.37528495, -0.63873041,  0.42349435,\n",
       "        0.07734007, -0.34385368,  0.04359686, -0.62000084,  0.69803203])"
      ]
     },
     "execution_count": 68,
     "metadata": {},
     "output_type": "execute_result"
    }
   ],
   "source": [
    "np.random.seed(1)\n",
    "X = np.random.normal(0,1,100)\n",
    "noise = np.random.normal(0,1,100)\n",
    "X"
   ]
  },
  {
   "cell_type": "markdown",
   "metadata": {},
   "source": [
    "b) Generate a response vector 'Y' using a cubic function with an intercept of 6 and coefficients of 5, 4, and 3 as well as added noise value."
   ]
  },
  {
   "cell_type": "code",
   "execution_count": 69,
   "metadata": {},
   "outputs": [
    {
     "data": {
      "text/plain": [
       "array([ 3.70860850e+01,  4.97586727e+00,  4.43646955e+00,  2.12797914e+00,\n",
       "        1.41722379e+01, -2.07242959e+01,  4.35776354e+01,  2.23479676e+00,\n",
       "        7.83354184e+00,  4.98798328e+00,  2.98653668e+01, -1.32396476e+01,\n",
       "        5.54933748e+00,  3.64026182e+00,  2.15332803e+01,  3.54874338e-02,\n",
       "        5.20270976e+00,  1.04795084e+00,  7.33984012e+00,  1.12755717e+01,\n",
       "        1.31799082e+00,  2.06901381e+01,  1.72317897e+01,  1.18702160e+01,\n",
       "        1.40857095e+01,  4.72856481e+00,  7.06803999e+00,  2.70356223e+00,\n",
       "        3.69067348e+00,  1.10877606e+01,  3.28169402e+00,  3.85460226e+00,\n",
       "        2.24944177e+00,  3.37062440e+00,  4.33152882e+00,  5.31378175e+00,\n",
       "        1.74306248e+00,  6.28618391e+00,  3.98386275e+01,  1.31850805e+01,\n",
       "        4.98027683e+00,  2.51360091e+00,  4.11478345e+00,  4.12139089e+01,\n",
       "        6.79422328e+00,  3.80036813e+00,  7.19906932e+00,  6.25570701e+01,\n",
       "        6.89624664e+00,  1.19976771e+01,  7.63228175e+00,  2.16911139e+00,\n",
       "        2.07347398e+00,  6.80052567e+00,  5.54409405e+00,  1.08150860e+01,\n",
       "        1.46457091e+01,  1.64259204e+01,  7.84146413e+00,  1.45180442e+01,\n",
       "        2.69936046e+00,  2.34458295e+01,  1.02706872e+01,  4.48886703e+00,\n",
       "        1.02421565e+01,  5.46898782e+00,  2.21142655e+01,  3.35836060e+01,\n",
       "        6.95453117e+01, -3.24838444e+00, -2.56057200e+00,  5.01196260e+00,\n",
       "        9.44325505e+00,  1.52207287e+01,  8.11468120e+00, -1.27882780e+01,\n",
       "        6.08935075e+00,  1.42975676e+01,  8.07886399e+00,  1.31403091e+01,\n",
       "        3.78055083e+00,  5.44669864e+00,  7.59469227e+00,  1.02228947e+01,\n",
       "        7.06173578e+00,  6.03938998e+00,  4.10363393e+00,  8.86024383e+00,\n",
       "        6.95455676e+00,  2.10000052e+01,  2.40745327e+01,  7.45144950e+00,\n",
       "        6.43302509e+00,  4.76754974e+00,  9.72176936e+00,  4.78457577e+00,\n",
       "        5.23402532e+00,  6.64611782e+00,  4.53356472e+00,  1.35039428e+01])"
      ]
     },
     "execution_count": 69,
     "metadata": {},
     "output_type": "execute_result"
    }
   ],
   "source": [
    "Y = 6 + 5*X + 4*(X**2) + 3*(X**3) + noise\n",
    "Y"
   ]
  },
  {
   "cell_type": "markdown",
   "metadata": {},
   "source": [
    "c)\n",
    "I set up a dateframe with predictors for X, X^2, ...X^10, named X1,X2...x10"
   ]
  },
  {
   "cell_type": "code",
   "execution_count": 70,
   "metadata": {},
   "outputs": [
    {
     "data": {
      "text/plain": [
       "(100, 2)"
      ]
     },
     "execution_count": 70,
     "metadata": {},
     "output_type": "execute_result"
    }
   ],
   "source": [
    "data = pd.DataFrame({'X': X, 'Y': Y})\n",
    "data.shape"
   ]
  },
  {
   "cell_type": "code",
   "execution_count": 71,
   "metadata": {},
   "outputs": [],
   "source": [
    "for i in range(2, 11):\n",
    "    data[f'X{i}'] = data['X'] ** i"
   ]
  },
  {
   "cell_type": "code",
   "execution_count": 72,
   "metadata": {},
   "outputs": [
    {
     "data": {
      "text/html": [
       "<div>\n",
       "<style scoped>\n",
       "    .dataframe tbody tr th:only-of-type {\n",
       "        vertical-align: middle;\n",
       "    }\n",
       "\n",
       "    .dataframe tbody tr th {\n",
       "        vertical-align: top;\n",
       "    }\n",
       "\n",
       "    .dataframe thead th {\n",
       "        text-align: right;\n",
       "    }\n",
       "</style>\n",
       "<table border=\"1\" class=\"dataframe\">\n",
       "  <thead>\n",
       "    <tr style=\"text-align: right;\">\n",
       "      <th></th>\n",
       "      <th>X</th>\n",
       "      <th>Y</th>\n",
       "      <th>X2</th>\n",
       "      <th>X3</th>\n",
       "      <th>X4</th>\n",
       "      <th>X5</th>\n",
       "      <th>X6</th>\n",
       "      <th>X7</th>\n",
       "      <th>X8</th>\n",
       "      <th>X9</th>\n",
       "      <th>X10</th>\n",
       "    </tr>\n",
       "  </thead>\n",
       "  <tbody>\n",
       "    <tr>\n",
       "      <th>0</th>\n",
       "      <td>1.624345</td>\n",
       "      <td>37.086085</td>\n",
       "      <td>2.638498</td>\n",
       "      <td>4.285832</td>\n",
       "      <td>6.961671</td>\n",
       "      <td>11.308158</td>\n",
       "      <td>18.368354</td>\n",
       "      <td>29.836551</td>\n",
       "      <td>48.464863</td>\n",
       "      <td>78.723675</td>\n",
       "      <td>127.874436</td>\n",
       "    </tr>\n",
       "  </tbody>\n",
       "</table>\n",
       "</div>"
      ],
      "text/plain": [
       "          X          Y        X2        X3        X4         X5         X6  \\\n",
       "0  1.624345  37.086085  2.638498  4.285832  6.961671  11.308158  18.368354   \n",
       "\n",
       "          X7         X8         X9         X10  \n",
       "0  29.836551  48.464863  78.723675  127.874436  "
      ]
     },
     "execution_count": 72,
     "metadata": {},
     "output_type": "execute_result"
    }
   ],
   "source": [
    "data[:1]"
   ]
  },
  {
   "cell_type": "markdown",
   "metadata": {},
   "source": [
    "Define function for measuring Cp (as a negative )"
   ]
  },
  {
   "cell_type": "code",
   "execution_count": 73,
   "metadata": {},
   "outputs": [],
   "source": [
    "def nCp (sigma2, estimator, X, Y):\n",
    "    \"Negative Cp statistic\"\n",
    "    n,p = X.shape\n",
    "    Yhat = estimator.predict(X)\n",
    "    RSS = np.sum((Y-Yhat)**2)\n",
    "    return -(RSS+2*p*sigma2)/n"
   ]
  },
  {
   "cell_type": "code",
   "execution_count": 74,
   "metadata": {},
   "outputs": [],
   "source": [
    "\n",
    "design = MS(data.columns.drop('Y')).fit(data)\n",
    "Y = np.array(data['Y'])\n",
    "X = design.transform(data)\n",
    "sigma2 = OLS(Y,X).fit().scale"
   ]
  },
  {
   "cell_type": "code",
   "execution_count": 75,
   "metadata": {},
   "outputs": [],
   "source": [
    "neg_Cp = partial(nCp, sigma2)"
   ]
  },
  {
   "cell_type": "code",
   "execution_count": 76,
   "metadata": {},
   "outputs": [],
   "source": [
    "strategy = Stepwise.first_peak(design, direction=\"forward\", max_terms=len(design.terms))\n"
   ]
  },
  {
   "cell_type": "code",
   "execution_count": 77,
   "metadata": {},
   "outputs": [
    {
     "data": {
      "text/plain": [
       "('X', 'X10', 'X2', 'X3', 'X4', 'X5', 'X6', 'X7', 'X8', 'X9')"
      ]
     },
     "execution_count": 77,
     "metadata": {},
     "output_type": "execute_result"
    }
   ],
   "source": [
    "data_MSE = sklearn_selected(OLS, strategy)\n",
    "data_MSE.fit(data, Y)\n",
    "data_MSE.selected_state_"
   ]
  },
  {
   "cell_type": "markdown",
   "metadata": {},
   "source": [
    "c) Then selects the variables for the model."
   ]
  },
  {
   "cell_type": "code",
   "execution_count": 78,
   "metadata": {},
   "outputs": [
    {
     "data": {
      "text/plain": [
       "('X', 'X2', 'X3', 'X6')"
      ]
     },
     "execution_count": 78,
     "metadata": {},
     "output_type": "execute_result"
    }
   ],
   "source": [
    "data_Cp = sklearn_selected(OLS, strategy, scoring=neg_Cp)\n",
    "data_Cp.fit(data, Y)\n",
    "data_Cp.selected_state_  \n"
   ]
  },
  {
   "cell_type": "markdown",
   "metadata": {},
   "source": [
    "Use the variables to constuct an model with coefficients. "
   ]
  },
  {
   "cell_type": "code",
   "execution_count": 79,
   "metadata": {},
   "outputs": [
    {
     "data": {
      "text/html": [
       "<table class=\"simpletable\">\n",
       "<caption>OLS Regression Results</caption>\n",
       "<tr>\n",
       "  <th>Dep. Variable:</th>            <td>Y</td>        <th>  R-squared:         </th> <td>   0.995</td> \n",
       "</tr>\n",
       "<tr>\n",
       "  <th>Model:</th>                   <td>OLS</td>       <th>  Adj. R-squared:    </th> <td>   0.995</td> \n",
       "</tr>\n",
       "<tr>\n",
       "  <th>Method:</th>             <td>Least Squares</td>  <th>  F-statistic:       </th> <td>   4813.</td> \n",
       "</tr>\n",
       "<tr>\n",
       "  <th>Date:</th>             <td>Wed, 03 Apr 2024</td> <th>  Prob (F-statistic):</th> <td>1.03e-108</td>\n",
       "</tr>\n",
       "<tr>\n",
       "  <th>Time:</th>                 <td>22:17:32</td>     <th>  Log-Likelihood:    </th> <td> -130.61</td> \n",
       "</tr>\n",
       "<tr>\n",
       "  <th>No. Observations:</th>      <td>   100</td>      <th>  AIC:               </th> <td>   271.2</td> \n",
       "</tr>\n",
       "<tr>\n",
       "  <th>Df Residuals:</th>          <td>    95</td>      <th>  BIC:               </th> <td>   284.2</td> \n",
       "</tr>\n",
       "<tr>\n",
       "  <th>Df Model:</th>              <td>     4</td>      <th>                     </th>     <td> </td>    \n",
       "</tr>\n",
       "<tr>\n",
       "  <th>Covariance Type:</th>      <td>nonrobust</td>    <th>                     </th>     <td> </td>    \n",
       "</tr>\n",
       "</table>\n",
       "<table class=\"simpletable\">\n",
       "<tr>\n",
       "    <td></td>       <th>coef</th>     <th>std err</th>      <th>t</th>      <th>P>|t|</th>  <th>[0.025</th>    <th>0.975]</th>  \n",
       "</tr>\n",
       "<tr>\n",
       "  <th>const</th> <td>    6.2769</td> <td>    0.128</td> <td>   49.085</td> <td> 0.000</td> <td>    6.023</td> <td>    6.531</td>\n",
       "</tr>\n",
       "<tr>\n",
       "  <th>X</th>     <td>    4.9101</td> <td>    0.183</td> <td>   26.897</td> <td> 0.000</td> <td>    4.548</td> <td>    5.272</td>\n",
       "</tr>\n",
       "<tr>\n",
       "  <th>X2</th>    <td>    3.6575</td> <td>    0.172</td> <td>   21.293</td> <td> 0.000</td> <td>    3.316</td> <td>    3.998</td>\n",
       "</tr>\n",
       "<tr>\n",
       "  <th>X3</th>    <td>    3.1054</td> <td>    0.064</td> <td>   48.423</td> <td> 0.000</td> <td>    2.978</td> <td>    3.233</td>\n",
       "</tr>\n",
       "<tr>\n",
       "  <th>X6</th>    <td>    0.0209</td> <td>    0.009</td> <td>    2.443</td> <td> 0.016</td> <td>    0.004</td> <td>    0.038</td>\n",
       "</tr>\n",
       "</table>\n",
       "<table class=\"simpletable\">\n",
       "<tr>\n",
       "  <th>Omnibus:</th>       <td> 1.527</td> <th>  Durbin-Watson:     </th> <td>   2.096</td>\n",
       "</tr>\n",
       "<tr>\n",
       "  <th>Prob(Omnibus):</th> <td> 0.466</td> <th>  Jarque-Bera (JB):  </th> <td>   1.076</td>\n",
       "</tr>\n",
       "<tr>\n",
       "  <th>Skew:</th>          <td>-0.236</td> <th>  Prob(JB):          </th> <td>   0.584</td>\n",
       "</tr>\n",
       "<tr>\n",
       "  <th>Kurtosis:</th>      <td> 3.187</td> <th>  Cond. No.          </th> <td>    50.9</td>\n",
       "</tr>\n",
       "</table><br/><br/>Notes:<br/>[1] Standard Errors assume that the covariance matrix of the errors is correctly specified."
      ],
      "text/latex": [
       "\\begin{center}\n",
       "\\begin{tabular}{lclc}\n",
       "\\toprule\n",
       "\\textbf{Dep. Variable:}    &        Y         & \\textbf{  R-squared:         } &     0.995   \\\\\n",
       "\\textbf{Model:}            &       OLS        & \\textbf{  Adj. R-squared:    } &     0.995   \\\\\n",
       "\\textbf{Method:}           &  Least Squares   & \\textbf{  F-statistic:       } &     4813.   \\\\\n",
       "\\textbf{Date:}             & Wed, 03 Apr 2024 & \\textbf{  Prob (F-statistic):} & 1.03e-108   \\\\\n",
       "\\textbf{Time:}             &     22:17:32     & \\textbf{  Log-Likelihood:    } &   -130.61   \\\\\n",
       "\\textbf{No. Observations:} &         100      & \\textbf{  AIC:               } &     271.2   \\\\\n",
       "\\textbf{Df Residuals:}     &          95      & \\textbf{  BIC:               } &     284.2   \\\\\n",
       "\\textbf{Df Model:}         &           4      & \\textbf{                     } &             \\\\\n",
       "\\textbf{Covariance Type:}  &    nonrobust     & \\textbf{                     } &             \\\\\n",
       "\\bottomrule\n",
       "\\end{tabular}\n",
       "\\begin{tabular}{lcccccc}\n",
       "               & \\textbf{coef} & \\textbf{std err} & \\textbf{t} & \\textbf{P$> |$t$|$} & \\textbf{[0.025} & \\textbf{0.975]}  \\\\\n",
       "\\midrule\n",
       "\\textbf{const} &       6.2769  &        0.128     &    49.085  &         0.000        &        6.023    &        6.531     \\\\\n",
       "\\textbf{X}     &       4.9101  &        0.183     &    26.897  &         0.000        &        4.548    &        5.272     \\\\\n",
       "\\textbf{X2}    &       3.6575  &        0.172     &    21.293  &         0.000        &        3.316    &        3.998     \\\\\n",
       "\\textbf{X3}    &       3.1054  &        0.064     &    48.423  &         0.000        &        2.978    &        3.233     \\\\\n",
       "\\textbf{X6}    &       0.0209  &        0.009     &     2.443  &         0.016        &        0.004    &        0.038     \\\\\n",
       "\\bottomrule\n",
       "\\end{tabular}\n",
       "\\begin{tabular}{lclc}\n",
       "\\textbf{Omnibus:}       &  1.527 & \\textbf{  Durbin-Watson:     } &    2.096  \\\\\n",
       "\\textbf{Prob(Omnibus):} &  0.466 & \\textbf{  Jarque-Bera (JB):  } &    1.076  \\\\\n",
       "\\textbf{Skew:}          & -0.236 & \\textbf{  Prob(JB):          } &    0.584  \\\\\n",
       "\\textbf{Kurtosis:}      &  3.187 & \\textbf{  Cond. No.          } &     50.9  \\\\\n",
       "\\bottomrule\n",
       "\\end{tabular}\n",
       "%\\caption{OLS Regression Results}\n",
       "\\end{center}\n",
       "\n",
       "Notes: \\newline\n",
       " [1] Standard Errors assume that the covariance matrix of the errors is correctly specified."
      ],
      "text/plain": [
       "<class 'statsmodels.iolib.summary.Summary'>\n",
       "\"\"\"\n",
       "                            OLS Regression Results                            \n",
       "==============================================================================\n",
       "Dep. Variable:                      Y   R-squared:                       0.995\n",
       "Model:                            OLS   Adj. R-squared:                  0.995\n",
       "Method:                 Least Squares   F-statistic:                     4813.\n",
       "Date:                Wed, 03 Apr 2024   Prob (F-statistic):          1.03e-108\n",
       "Time:                        22:17:32   Log-Likelihood:                -130.61\n",
       "No. Observations:                 100   AIC:                             271.2\n",
       "Df Residuals:                      95   BIC:                             284.2\n",
       "Df Model:                           4                                         \n",
       "Covariance Type:            nonrobust                                         \n",
       "==============================================================================\n",
       "                 coef    std err          t      P>|t|      [0.025      0.975]\n",
       "------------------------------------------------------------------------------\n",
       "const          6.2769      0.128     49.085      0.000       6.023       6.531\n",
       "X              4.9101      0.183     26.897      0.000       4.548       5.272\n",
       "X2             3.6575      0.172     21.293      0.000       3.316       3.998\n",
       "X3             3.1054      0.064     48.423      0.000       2.978       3.233\n",
       "X6             0.0209      0.009      2.443      0.016       0.004       0.038\n",
       "==============================================================================\n",
       "Omnibus:                        1.527   Durbin-Watson:                   2.096\n",
       "Prob(Omnibus):                  0.466   Jarque-Bera (JB):                1.076\n",
       "Skew:                          -0.236   Prob(JB):                        0.584\n",
       "Kurtosis:                       3.187   Cond. No.                         50.9\n",
       "==============================================================================\n",
       "\n",
       "Notes:\n",
       "[1] Standard Errors assume that the covariance matrix of the errors is correctly specified.\n",
       "\"\"\""
      ]
     },
     "execution_count": 79,
     "metadata": {},
     "output_type": "execute_result"
    }
   ],
   "source": [
    "X = sm.add_constant(data[['X', 'X2', 'X3','X6']])\n",
    "Y = data['Y']\n",
    "\n",
    "model = OLS(Y, X).fit()\n",
    "\n",
    "\n",
    "model.summary()"
   ]
  },
  {
   "cell_type": "code",
   "execution_count": 80,
   "metadata": {},
   "outputs": [],
   "source": [
    "strategy = Stepwise.fixed_steps(design, len(design.terms), direction='forward')\n",
    "fullpath =sklearn_selection_path(OLS,strategy)\n",
    "\n"
   ]
  },
  {
   "cell_type": "code",
   "execution_count": null,
   "metadata": {},
   "outputs": [],
   "source": []
  },
  {
   "cell_type": "code",
   "execution_count": 81,
   "metadata": {},
   "outputs": [
    {
     "data": {
      "text/plain": [
       "(100, 11)"
      ]
     },
     "execution_count": 81,
     "metadata": {},
     "output_type": "execute_result"
    }
   ],
   "source": [
    "fullpath.fit(data, Y)\n",
    "Yhat_in = fullpath.predict(data)\n",
    "Yhat_in.shape\n"
   ]
  },
  {
   "cell_type": "code",
   "execution_count": 82,
   "metadata": {},
   "outputs": [
    {
     "name": "stderr",
     "output_type": "stream",
     "text": [
      "/var/folders/k3/m63gb3f97r94svg8h31wq40m0000gp/T/ipykernel_46543/3276190130.py:2: FutureWarning: Support for multi-dimensional indexing (e.g. `obj[:, None]`) is deprecated and will be removed in a future version.  Convert to a numpy array before indexing instead.\n",
      "  insample_mse = ((Yhat_in - Y[:,None])**2).mean(0)\n"
     ]
    },
    {
     "data": {
      "text/plain": [
       "(0.0, 300.0)"
      ]
     },
     "execution_count": 82,
     "metadata": {},
     "output_type": "execute_result"
    },
    {
     "data": {
      "image/png": "[encoded data removed]",
      "text/plain": [
       "<Figure size 800x800 with 1 Axes>"
      ]
     },
     "metadata": {},
     "output_type": "display_data"
    }
   ],
   "source": [
    "mse_fig, ax = subplots(figsize=(8,8))\n",
    "insample_mse = ((Yhat_in - Y[:,None])**2).mean(0)\n",
    "n_steps = insample_mse.shape[0]\n",
    "ax.plot(np.arange(n_steps),insample_mse, 'k', label =\"In-sample\")\n",
    "ax.set_ylabel('MSE', fontsize=20)\n",
    "ax.set_xlabel('# steps of forward stepwise', fontsize=20)\n",
    "ax.set_xticks(np.arange(n_steps)[::2])\n",
    "ax.legend()\n",
    "ax.set_ylim([0,300])"
   ]
  },
  {
   "cell_type": "markdown",
   "metadata": {},
   "source": []
  },
  {
   "cell_type": "code",
   "execution_count": 83,
   "metadata": {},
   "outputs": [
    {
     "data": {
      "text/plain": [
       "(100, 11)"
      ]
     },
     "execution_count": 83,
     "metadata": {},
     "output_type": "execute_result"
    }
   ],
   "source": [
    "K = 5\n",
    "kfold = skm.KFold(K, random_state=0, shuffle=True)\n",
    "Yhat_cv = skm.cross_val_predict(fullpath, data, Y, cv=kfold)\n",
    "Yhat_cv.shape"
   ]
  },
  {
   "cell_type": "code",
   "execution_count": 84,
   "metadata": {},
   "outputs": [
    {
     "name": "stderr",
     "output_type": "stream",
     "text": [
      "/var/folders/k3/m63gb3f97r94svg8h31wq40m0000gp/T/ipykernel_46543/649422207.py:3: FutureWarning: Support for multi-dimensional indexing (e.g. `obj[:, None]`) is deprecated and will be removed in a future version.  Convert to a numpy array before indexing instead.\n",
      "  errors = (Yhat_cv[test_idx]-Y[test_idx, None])**2\n"
     ]
    },
    {
     "data": {
      "text/plain": [
       "(11, 5)"
      ]
     },
     "execution_count": 84,
     "metadata": {},
     "output_type": "execute_result"
    }
   ],
   "source": [
    "cv_mse=[]\n",
    "for train_idx, test_idx in kfold.split(Y):\n",
    "    errors = (Yhat_cv[test_idx]-Y[test_idx, None])**2\n",
    "    cv_mse.append(errors.mean(0))\n",
    "cv_mse = np.array(cv_mse).T\n",
    "cv_mse.shape"
   ]
  },
  {
   "cell_type": "code",
   "execution_count": 85,
   "metadata": {},
   "outputs": [
    {
     "data": {
      "image/png": "[encoded data removed]",
      "text/plain": [
       "<Figure size 800x800 with 1 Axes>"
      ]
     },
     "execution_count": 85,
     "metadata": {},
     "output_type": "execute_result"
    }
   ],
   "source": [
    "ax.errorbar(np.arange(n_steps), cv_mse.mean(1), cv_mse.std(1)/np.sqrt(K), label=\"Cross-validated\", c=\"r\")\n",
    "ax.set_ylim([0,300])\n",
    "ax.legend()\n",
    "mse_fig"
   ]
  },
  {
   "cell_type": "code",
   "execution_count": 86,
   "metadata": {},
   "outputs": [
    {
     "name": "stderr",
     "output_type": "stream",
     "text": [
      "/var/folders/k3/m63gb3f97r94svg8h31wq40m0000gp/T/ipykernel_46543/385412285.py:5: FutureWarning: Support for multi-dimensional indexing (e.g. `obj[:, None]`) is deprecated and will be removed in a future version.  Convert to a numpy array before indexing instead.\n",
      "  errors =(Yhat_val - Y[test_idx,None])**2\n"
     ]
    }
   ],
   "source": [
    "validation = skm.ShuffleSplit(n_splits=1, test_size=0.2, random_state=1)\n",
    "for train_idx, test_idx in validation.split(Y):\n",
    "    fullpath.fit(data.iloc[train_idx],Y[train_idx])\n",
    "    Yhat_val = fullpath.predict(data.iloc[test_idx])\n",
    "    errors =(Yhat_val - Y[test_idx,None])**2\n",
    "    validation_mse = errors.mean(0)"
   ]
  },
  {
   "cell_type": "code",
   "execution_count": 87,
   "metadata": {},
   "outputs": [
    {
     "data": {
      "image/png": "[encoded data removed]",
      "text/plain": [
       "<Figure size 800x800 with 1 Axes>"
      ]
     },
     "execution_count": 87,
     "metadata": {},
     "output_type": "execute_result"
    }
   ],
   "source": [
    "ax.plot(np.arange(n_steps), validation_mse, 'b--', label=\"Validation\")\n",
    "ax.set_xticks(np.arange(n_steps)[::2])\n",
    "ax.set_ylim([0,300])\n",
    "ax.legend()\n",
    "mse_fig"
   ]
  },
  {
   "cell_type": "code",
   "execution_count": 88,
   "metadata": {},
   "outputs": [],
   "source": [
    "D = design.fit_transform(data)\n",
    "D = D.drop('intercept',axis=1)\n",
    "X = np.asarray(D)"
   ]
  },
  {
   "cell_type": "code",
   "execution_count": 92,
   "metadata": {},
   "outputs": [
    {
     "name": "stdout",
     "output_type": "stream",
     "text": [
      "Preprocessing Data.\n",
      "BnB Started.\n"
     ]
    },
    {
     "ename": "TypingError",
     "evalue": "Failed in nopython mode pipeline (step: nopython frontend)\n\u001b[1m\u001b[1mnon-precise type pyobject\u001b[0m\n\u001b[0m\u001b[1mDuring: typing of argument at /Users/staff/anaconda3/lib/python3.11/site-packages/l0bnb/relaxation/_coordinate_descent.py (9)\u001b[0m\n\u001b[1m\nFile \"../anaconda3/lib/python3.11/site-packages/l0bnb/relaxation/_coordinate_descent.py\", line 9:\u001b[0m\n\u001b[1m\n\u001b[1m@njit(cache=True)\n\u001b[0m\u001b[1m^\u001b[0m\u001b[0m \n\nThis error may have been caused by the following argument(s):\n- argument 11: \u001b[1mCannot determine Numba type of <class 'pandas.core.series.Series'>\u001b[0m \n\nThis error may have been caused by the following argument(s):\n- argument 11: \u001b[1mCannot determine Numba type of <class 'pandas.core.series.Series'>\u001b[0m \n\nThis error may have been caused by the following argument(s):\n- argument 11: \u001b[1mCannot determine Numba type of <class 'pandas.core.series.Series'>\u001b[0m\n",
     "output_type": "error",
     "traceback": [
      "\u001b[0;31m---------------------------------------------------------------------------\u001b[0m",
      "\u001b[0;31mTypingError\u001b[0m                               Traceback (most recent call last)",
      "Cell \u001b[0;32mIn[92], line 1\u001b[0m\n\u001b[0;32m----> 1\u001b[0m path \u001b[38;5;241m=\u001b[39m fit_path(X,Y, max_nonzeros\u001b[38;5;241m=\u001b[39mX\u001b[38;5;241m.\u001b[39mshape[\u001b[38;5;241m1\u001b[39m])\n",
      "File \u001b[0;32m~/anaconda3/lib/python3.11/site-packages/l0bnb/regpath.py:110\u001b[0m, in \u001b[0;36mfit_path\u001b[0;34m(x, y, lambda_2, max_nonzeros, intercept, normalize, m_multiplier, lambda_0_grid, lambda_0_grid_warm_start, gap_tol, time_limit, solver)\u001b[0m\n\u001b[1;32m    108\u001b[0m \u001b[38;5;28;01mif\u001b[39;00m solver \u001b[38;5;241m==\u001b[39m \u001b[38;5;124m'\u001b[39m\u001b[38;5;124ml0bnb\u001b[39m\u001b[38;5;124m'\u001b[39m:\n\u001b[1;32m    109\u001b[0m     tree \u001b[38;5;241m=\u001b[39m BNBTree(x_centered, y_centered)\n\u001b[0;32m--> 110\u001b[0m     tree_sol \u001b[38;5;241m=\u001b[39m tree\u001b[38;5;241m.\u001b[39msolve(\n\u001b[1;32m    111\u001b[0m         current_lambda_0,\n\u001b[1;32m    112\u001b[0m         lambda_2,\n\u001b[1;32m    113\u001b[0m         m,\n\u001b[1;32m    114\u001b[0m         warm_start\u001b[38;5;241m=\u001b[39mwarm_start,\n\u001b[1;32m    115\u001b[0m         gap_tol\u001b[38;5;241m=\u001b[39mgap_tol,\n\u001b[1;32m    116\u001b[0m         time_limit\u001b[38;5;241m=\u001b[39mtime_limit)\n\u001b[1;32m    117\u001b[0m     uppersol \u001b[38;5;241m=\u001b[39m tree_sol\u001b[38;5;241m.\u001b[39mbeta\n\u001b[1;32m    118\u001b[0m \u001b[38;5;28;01melif\u001b[39;00m solver \u001b[38;5;241m==\u001b[39m \u001b[38;5;124m'\u001b[39m\u001b[38;5;124mgurobi\u001b[39m\u001b[38;5;124m'\u001b[39m:\n",
      "File \u001b[0;32m~/anaconda3/lib/python3.11/site-packages/l0bnb/tree.py:138\u001b[0m, in \u001b[0;36mBNBTree.solve\u001b[0;34m(self, l0, l2, m, gap_tol, warm_start, mu, branching, l1solver, number_of_dfs_levels, verbose, time_limit, cd_max_itr, kkt_max_itr)\u001b[0m\n\u001b[1;32m    135\u001b[0m     rel_gap_tol \u001b[38;5;241m=\u001b[39m \u001b[38;5;241m1\u001b[39m\n\u001b[1;32m    136\u001b[0m \u001b[38;5;66;03m# calculate primal and dual values\u001b[39;00m\n\u001b[1;32m    137\u001b[0m curr_primal, curr_dual \u001b[38;5;241m=\u001b[39m \u001b[38;5;28mself\u001b[39m\u001b[38;5;241m.\u001b[39m \\\n\u001b[0;32m--> 138\u001b[0m     _solve_node(curr_node, l0, l2, m, l1solver, lower_bound,\n\u001b[1;32m    139\u001b[0m                 dual_bound, upper_bound, rel_gap_tol, cd_max_itr,\n\u001b[1;32m    140\u001b[0m                 kkt_max_itr)\n\u001b[1;32m    142\u001b[0m curr_upper_bound \u001b[38;5;241m=\u001b[39m curr_node\u001b[38;5;241m.\u001b[39mupper_solve(l0, l2, m)\n\u001b[1;32m    143\u001b[0m \u001b[38;5;28;01mif\u001b[39;00m curr_upper_bound \u001b[38;5;241m<\u001b[39m upper_bound:\n",
      "File \u001b[0;32m~/anaconda3/lib/python3.11/site-packages/l0bnb/tree.py:215\u001b[0m, in \u001b[0;36mBNBTree._solve_node\u001b[0;34m(self, curr_node, l0, l2, m, l1solver, lower_, dual_, upper_bound, gap, cd_max_itr, kkt_max_itr)\u001b[0m\n\u001b[1;32m    211\u001b[0m \u001b[38;5;28;01mdef\u001b[39;00m \u001b[38;5;21m_solve_node\u001b[39m(\u001b[38;5;28mself\u001b[39m, curr_node, l0, l2, m, l1solver, lower_, dual_,\n\u001b[1;32m    212\u001b[0m                 upper_bound, gap, cd_max_itr, kkt_max_itr):\n\u001b[1;32m    213\u001b[0m     \u001b[38;5;28mself\u001b[39m\u001b[38;5;241m.\u001b[39mnumber_of_nodes \u001b[38;5;241m+\u001b[39m\u001b[38;5;241m=\u001b[39m \u001b[38;5;241m1\u001b[39m\n\u001b[1;32m    214\u001b[0m     curr_primal, curr_dual \u001b[38;5;241m=\u001b[39m curr_node\u001b[38;5;241m.\u001b[39m \\\n\u001b[0;32m--> 215\u001b[0m         lower_solve(l0, l2, m, l1solver, \u001b[38;5;28mself\u001b[39m\u001b[38;5;241m.\u001b[39mrel_tol, \u001b[38;5;28mself\u001b[39m\u001b[38;5;241m.\u001b[39mint_tol,\n\u001b[1;32m    216\u001b[0m                     tree_upper_bound\u001b[38;5;241m=\u001b[39mupper_bound, mio_gap\u001b[38;5;241m=\u001b[39mgap,\n\u001b[1;32m    217\u001b[0m                     cd_max_itr\u001b[38;5;241m=\u001b[39mcd_max_itr, kkt_max_itr\u001b[38;5;241m=\u001b[39mkkt_max_itr)\n\u001b[1;32m    218\u001b[0m     lower_[curr_node\u001b[38;5;241m.\u001b[39mlevel] \u001b[38;5;241m=\u001b[39m \\\n\u001b[1;32m    219\u001b[0m         \u001b[38;5;28mmin\u001b[39m(curr_primal, lower_\u001b[38;5;241m.\u001b[39mget(curr_node\u001b[38;5;241m.\u001b[39mlevel, sys\u001b[38;5;241m.\u001b[39mmaxsize))\n\u001b[1;32m    220\u001b[0m     dual_[curr_node\u001b[38;5;241m.\u001b[39mlevel] \u001b[38;5;241m=\u001b[39m \\\n\u001b[1;32m    221\u001b[0m         \u001b[38;5;28mmin\u001b[39m(curr_dual, dual_\u001b[38;5;241m.\u001b[39mget(curr_node\u001b[38;5;241m.\u001b[39mlevel, sys\u001b[38;5;241m.\u001b[39mmaxsize))\n",
      "File \u001b[0;32m~/anaconda3/lib/python3.11/site-packages/l0bnb/node/core.py:86\u001b[0m, in \u001b[0;36mNode.lower_solve\u001b[0;34m(self, l0, l2, m, solver, rel_tol, int_tol, tree_upper_bound, mio_gap, cd_max_itr, kkt_max_itr)\u001b[0m\n\u001b[1;32m     82\u001b[0m \u001b[38;5;28;01mdef\u001b[39;00m \u001b[38;5;21mlower_solve\u001b[39m(\u001b[38;5;28mself\u001b[39m, l0, l2, m, solver, rel_tol, int_tol\u001b[38;5;241m=\u001b[39m\u001b[38;5;241m1e-6\u001b[39m,\n\u001b[1;32m     83\u001b[0m                 tree_upper_bound\u001b[38;5;241m=\u001b[39m\u001b[38;5;28;01mNone\u001b[39;00m, mio_gap\u001b[38;5;241m=\u001b[39m\u001b[38;5;28;01mNone\u001b[39;00m, cd_max_itr\u001b[38;5;241m=\u001b[39m\u001b[38;5;241m100\u001b[39m,\n\u001b[1;32m     84\u001b[0m                 kkt_max_itr\u001b[38;5;241m=\u001b[39m\u001b[38;5;241m100\u001b[39m):\n\u001b[1;32m     85\u001b[0m     \u001b[38;5;28;01mif\u001b[39;00m solver \u001b[38;5;241m==\u001b[39m \u001b[38;5;124m'\u001b[39m\u001b[38;5;124ml1cd\u001b[39m\u001b[38;5;124m'\u001b[39m:\n\u001b[0;32m---> 86\u001b[0m         sol \u001b[38;5;241m=\u001b[39m cd_solve(x\u001b[38;5;241m=\u001b[39m\u001b[38;5;28mself\u001b[39m\u001b[38;5;241m.\u001b[39mx, y\u001b[38;5;241m=\u001b[39m\u001b[38;5;28mself\u001b[39m\u001b[38;5;241m.\u001b[39my, l0\u001b[38;5;241m=\u001b[39ml0, l2\u001b[38;5;241m=\u001b[39ml2, m\u001b[38;5;241m=\u001b[39mm, zlb\u001b[38;5;241m=\u001b[39m\u001b[38;5;28mself\u001b[39m\u001b[38;5;241m.\u001b[39mzlb,\n\u001b[1;32m     87\u001b[0m                        zub\u001b[38;5;241m=\u001b[39m\u001b[38;5;28mself\u001b[39m\u001b[38;5;241m.\u001b[39mzub, xi_norm\u001b[38;5;241m=\u001b[39m\u001b[38;5;28mself\u001b[39m\u001b[38;5;241m.\u001b[39mxi_norm, rel_tol\u001b[38;5;241m=\u001b[39mrel_tol,\n\u001b[1;32m     88\u001b[0m                        warm_start\u001b[38;5;241m=\u001b[39m\u001b[38;5;28mself\u001b[39m\u001b[38;5;241m.\u001b[39mwarm_start, r\u001b[38;5;241m=\u001b[39m\u001b[38;5;28mself\u001b[39m\u001b[38;5;241m.\u001b[39mr,\n\u001b[1;32m     89\u001b[0m                        tree_upper_bound\u001b[38;5;241m=\u001b[39mtree_upper_bound, mio_gap\u001b[38;5;241m=\u001b[39mmio_gap,\n\u001b[1;32m     90\u001b[0m                        gs_xtr\u001b[38;5;241m=\u001b[39m\u001b[38;5;28mself\u001b[39m\u001b[38;5;241m.\u001b[39mgs_xtr, gs_xb\u001b[38;5;241m=\u001b[39m\u001b[38;5;28mself\u001b[39m\u001b[38;5;241m.\u001b[39mgs_xb,\n\u001b[1;32m     91\u001b[0m                        cd_max_itr\u001b[38;5;241m=\u001b[39mcd_max_itr, kkt_max_itr\u001b[38;5;241m=\u001b[39mkkt_max_itr)\n\u001b[1;32m     92\u001b[0m         \u001b[38;5;28mself\u001b[39m\u001b[38;5;241m.\u001b[39mprimal_value \u001b[38;5;241m=\u001b[39m sol\u001b[38;5;241m.\u001b[39mprimal_value\n\u001b[1;32m     93\u001b[0m         \u001b[38;5;28mself\u001b[39m\u001b[38;5;241m.\u001b[39mdual_value \u001b[38;5;241m=\u001b[39m sol\u001b[38;5;241m.\u001b[39mdual_value\n",
      "File \u001b[0;32m~/anaconda3/lib/python3.11/site-packages/l0bnb/relaxation/core.py:137\u001b[0m, in \u001b[0;36msolve\u001b[0;34m(x, y, l0, l2, m, zlb, zub, gs_xtr, gs_xb, xi_norm, warm_start, r, rel_tol, tree_upper_bound, mio_gap, check_if_integral, cd_max_itr, kkt_max_itr)\u001b[0m\n\u001b[1;32m    132\u001b[0m _sol_str \u001b[38;5;241m=\u001b[39m \\\n\u001b[1;32m    133\u001b[0m     \u001b[38;5;124m'\u001b[39m\u001b[38;5;124mprimal_value dual_value support primal_beta sol_time z r gs_xtr gs_xb\u001b[39m\u001b[38;5;124m'\u001b[39m\n\u001b[1;32m    134\u001b[0m Solution \u001b[38;5;241m=\u001b[39m namedtuple(\u001b[38;5;124m'\u001b[39m\u001b[38;5;124mSolution\u001b[39m\u001b[38;5;124m'\u001b[39m, _sol_str)\n\u001b[1;32m    136\u001b[0m beta, r, support, zub, zlb, xi_norm \u001b[38;5;241m=\u001b[39m \\\n\u001b[0;32m--> 137\u001b[0m     _initialize(x, y, l0, l2, m, zlb, zub, xi_norm, warm_start, r)\n\u001b[1;32m    138\u001b[0m cost, _ \u001b[38;5;241m=\u001b[39m get_primal_cost(beta, r, l0, l2, m, zlb, zub)\n\u001b[1;32m    139\u001b[0m dual_cost \u001b[38;5;241m=\u001b[39m \u001b[38;5;28;01mNone\u001b[39;00m\n",
      "File \u001b[0;32m~/anaconda3/lib/python3.11/site-packages/l0bnb/relaxation/core.py:64\u001b[0m, in \u001b[0;36m_initialize\u001b[0;34m(x, y, l0, l2, m, fixed_lb, fixed_ub, xi_norm, warm_start, r)\u001b[0m\n\u001b[1;32m     62\u001b[0m     beta \u001b[38;5;241m=\u001b[39m np\u001b[38;5;241m.\u001b[39mzeros(p)\n\u001b[1;32m     63\u001b[0m     r \u001b[38;5;241m=\u001b[39m y \u001b[38;5;241m-\u001b[39m np\u001b[38;5;241m.\u001b[39mmatmul(x, beta)\n\u001b[0;32m---> 64\u001b[0m     support, r \u001b[38;5;241m=\u001b[39m _find_active_set(x, y, beta, l0, l2, m, zlb, zub, xi_norm,\n\u001b[1;32m     65\u001b[0m                                   {\u001b[38;5;241m0\u001b[39m}, r)\n\u001b[1;32m     66\u001b[0m \u001b[38;5;28;01mreturn\u001b[39;00m beta, r, support, zub, zlb, xi_norm\n",
      "File \u001b[0;32m~/anaconda3/lib/python3.11/site-packages/l0bnb/relaxation/core.py:37\u001b[0m, in \u001b[0;36m_find_active_set\u001b[0;34m(x, y, beta, l0, l2, m, zlb, zub, xi_norm, support, r)\u001b[0m\n\u001b[1;32m     35\u001b[0m typed_a \u001b[38;5;241m=\u001b[39m List()\n\u001b[1;32m     36\u001b[0m [typed_a\u001b[38;5;241m.\u001b[39mappend(x) \u001b[38;5;28;01mfor\u001b[39;00m x \u001b[38;5;129;01min\u001b[39;00m active_set]\n\u001b[0;32m---> 37\u001b[0m beta_active, r \u001b[38;5;241m=\u001b[39m cd_loop(x_active, beta_active, typed_a, l2, _ratio,\n\u001b[1;32m     38\u001b[0m                          threshold, m, xi_norm_active, zlb_active,\n\u001b[1;32m     39\u001b[0m                          zub_active, support, r)\n\u001b[1;32m     40\u001b[0m \u001b[38;5;28;01mif\u001b[39;00m old_support \u001b[38;5;241m==\u001b[39m support:\n\u001b[1;32m     41\u001b[0m     num_of_similar_supports \u001b[38;5;241m+\u001b[39m\u001b[38;5;241m=\u001b[39m \u001b[38;5;241m1\u001b[39m\n",
      "File \u001b[0;32m~/anaconda3/lib/python3.11/site-packages/numba/core/dispatcher.py:468\u001b[0m, in \u001b[0;36m_DispatcherBase._compile_for_args\u001b[0;34m(self, *args, **kws)\u001b[0m\n\u001b[1;32m    464\u001b[0m         msg \u001b[38;5;241m=\u001b[39m (\u001b[38;5;124mf\u001b[39m\u001b[38;5;124m\"\u001b[39m\u001b[38;5;132;01m{\u001b[39;00m\u001b[38;5;28mstr\u001b[39m(e)\u001b[38;5;241m.\u001b[39mrstrip()\u001b[38;5;132;01m}\u001b[39;00m\u001b[38;5;124m \u001b[39m\u001b[38;5;130;01m\\n\u001b[39;00m\u001b[38;5;130;01m\\n\u001b[39;00m\u001b[38;5;124mThis error may have been caused \u001b[39m\u001b[38;5;124m\"\u001b[39m\n\u001b[1;32m    465\u001b[0m                \u001b[38;5;124mf\u001b[39m\u001b[38;5;124m\"\u001b[39m\u001b[38;5;124mby the following argument(s):\u001b[39m\u001b[38;5;130;01m\\n\u001b[39;00m\u001b[38;5;132;01m{\u001b[39;00margs_str\u001b[38;5;132;01m}\u001b[39;00m\u001b[38;5;130;01m\\n\u001b[39;00m\u001b[38;5;124m\"\u001b[39m)\n\u001b[1;32m    466\u001b[0m         e\u001b[38;5;241m.\u001b[39mpatch_message(msg)\n\u001b[0;32m--> 468\u001b[0m     error_rewrite(e, \u001b[38;5;124m'\u001b[39m\u001b[38;5;124mtyping\u001b[39m\u001b[38;5;124m'\u001b[39m)\n\u001b[1;32m    469\u001b[0m \u001b[38;5;28;01mexcept\u001b[39;00m errors\u001b[38;5;241m.\u001b[39mUnsupportedError \u001b[38;5;28;01mas\u001b[39;00m e:\n\u001b[1;32m    470\u001b[0m     \u001b[38;5;66;03m# Something unsupported is present in the user code, add help info\u001b[39;00m\n\u001b[1;32m    471\u001b[0m     error_rewrite(e, \u001b[38;5;124m'\u001b[39m\u001b[38;5;124munsupported_error\u001b[39m\u001b[38;5;124m'\u001b[39m)\n",
      "File \u001b[0;32m~/anaconda3/lib/python3.11/site-packages/numba/core/dispatcher.py:409\u001b[0m, in \u001b[0;36m_DispatcherBase._compile_for_args.<locals>.error_rewrite\u001b[0;34m(e, issue_type)\u001b[0m\n\u001b[1;32m    407\u001b[0m     \u001b[38;5;28;01mraise\u001b[39;00m e\n\u001b[1;32m    408\u001b[0m \u001b[38;5;28;01melse\u001b[39;00m:\n\u001b[0;32m--> 409\u001b[0m     \u001b[38;5;28;01mraise\u001b[39;00m e\u001b[38;5;241m.\u001b[39mwith_traceback(\u001b[38;5;28;01mNone\u001b[39;00m)\n",
      "\u001b[0;31mTypingError\u001b[0m: Failed in nopython mode pipeline (step: nopython frontend)\n\u001b[1m\u001b[1mnon-precise type pyobject\u001b[0m\n\u001b[0m\u001b[1mDuring: typing of argument at /Users/staff/anaconda3/lib/python3.11/site-packages/l0bnb/relaxation/_coordinate_descent.py (9)\u001b[0m\n\u001b[1m\nFile \"../anaconda3/lib/python3.11/site-packages/l0bnb/relaxation/_coordinate_descent.py\", line 9:\u001b[0m\n\u001b[1m\n\u001b[1m@njit(cache=True)\n\u001b[0m\u001b[1m^\u001b[0m\u001b[0m \n\nThis error may have been caused by the following argument(s):\n- argument 11: \u001b[1mCannot determine Numba type of <class 'pandas.core.series.Series'>\u001b[0m \n\nThis error may have been caused by the following argument(s):\n- argument 11: \u001b[1mCannot determine Numba type of <class 'pandas.core.series.Series'>\u001b[0m \n\nThis error may have been caused by the following argument(s):\n- argument 11: \u001b[1mCannot determine Numba type of <class 'pandas.core.series.Series'>\u001b[0m\n"
     ]
    }
   ],
   "source": [
    "path = fit_path(X,Y, max_nonzeros=X.shape[1])"
   ]
  },
  {
   "cell_type": "code",
   "execution_count": null,
   "metadata": {},
   "outputs": [
    {
     "data": {
      "text/plain": [
       "{'B': array([5.05078476, 3.94101009, 2.97904199, 0.        , 0.        ,\n",
       "        0.        , 0.        , 0.        , 0.        , 0.        ]),\n",
       " 'B0': 6.199077236259481,\n",
       " 'lambda_0': 0.0075970786775854575,\n",
       " 'M': 1.051770741314611,\n",
       " 'Time_exceeded': False}"
      ]
     },
     "execution_count": 33,
     "metadata": {},
     "output_type": "execute_result"
    }
   ],
   "source": [
    "path[2]"
   ]
  },
  {
   "cell_type": "code",
   "execution_count": null,
   "metadata": {},
   "outputs": [],
   "source": [
    "strategy = Stepwise.fixed_steps(design, len(design.terms), direction='forward')\n",
    "full_path=sklearn_selection_path(OLS,strategy)\n",
    "full_path.fit(data, Y)\n",
    "Yhat_in = full_path.predict(data)\n",
    "\n",
    "\n",
    "\n"
   ]
  },
  {
   "cell_type": "markdown",
   "metadata": {},
   "source": [
    "e) This is where I started the lasso model but I kept getting errors or unexpected results and could never get it to produce the model coefficients. "
   ]
  },
  {
   "cell_type": "code",
   "execution_count": null,
   "metadata": {},
   "outputs": [
    {
     "data": {
      "text/plain": [
       "0.011517267917597395"
      ]
     },
     "execution_count": 35,
     "metadata": {},
     "output_type": "execute_result"
    }
   ],
   "source": [
    "scaler = StandardScaler(with_mean=True, with_std=True)\n",
    "lassoCV = skl.ElasticNetCV(n_alphas=100, l1_ratio=1, cv=kfold)\n",
    "pipeCV = Pipeline(steps=[('scaler',scaler),('lasso',lassoCV)])\n",
    "pipeCV.fit(X,Y)\n",
    "tuned_lasso = pipeCV.named_steps['lasso']\n",
    "tuned_lasso.alpha_"
   ]
  },
  {
   "cell_type": "code",
   "execution_count": null,
   "metadata": {},
   "outputs": [
    {
     "name": "stderr",
     "output_type": "stream",
     "text": [
      "/Users/staff/anaconda3/lib/python3.11/site-packages/sklearn/linear_model/_coordinate_descent.py:614: ConvergenceWarning: Objective did not converge. You might want to increase the number of iterations. Duality gap: 2.709576799568822, tolerance: 2.6296718827105736\n",
      "  model = cd_fast.enet_coordinate_descent_gram(\n",
      "/Users/staff/anaconda3/lib/python3.11/site-packages/sklearn/linear_model/_coordinate_descent.py:614: ConvergenceWarning: Objective did not converge. You might want to increase the number of iterations. Duality gap: 12.677044716465389, tolerance: 2.6296718827105736\n",
      "  model = cd_fast.enet_coordinate_descent_gram(\n",
      "/Users/staff/anaconda3/lib/python3.11/site-packages/sklearn/linear_model/_coordinate_descent.py:614: ConvergenceWarning: Objective did not converge. You might want to increase the number of iterations. Duality gap: 27.376499153339864, tolerance: 2.6296718827105736\n",
      "  model = cd_fast.enet_coordinate_descent_gram(\n",
      "/Users/staff/anaconda3/lib/python3.11/site-packages/sklearn/linear_model/_coordinate_descent.py:614: ConvergenceWarning: Objective did not converge. You might want to increase the number of iterations. Duality gap: 36.42516924331176, tolerance: 2.6296718827105736\n",
      "  model = cd_fast.enet_coordinate_descent_gram(\n",
      "/Users/staff/anaconda3/lib/python3.11/site-packages/sklearn/linear_model/_coordinate_descent.py:614: ConvergenceWarning: Objective did not converge. You might want to increase the number of iterations. Duality gap: 40.468139517396594, tolerance: 2.6296718827105736\n",
      "  model = cd_fast.enet_coordinate_descent_gram(\n",
      "/Users/staff/anaconda3/lib/python3.11/site-packages/sklearn/linear_model/_coordinate_descent.py:614: ConvergenceWarning: Objective did not converge. You might want to increase the number of iterations. Duality gap: 40.412150378873775, tolerance: 2.6296718827105736\n",
      "  model = cd_fast.enet_coordinate_descent_gram(\n",
      "/Users/staff/anaconda3/lib/python3.11/site-packages/sklearn/linear_model/_coordinate_descent.py:614: ConvergenceWarning: Objective did not converge. You might want to increase the number of iterations. Duality gap: 37.2181267697988, tolerance: 2.6296718827105736\n",
      "  model = cd_fast.enet_coordinate_descent_gram(\n",
      "/Users/staff/anaconda3/lib/python3.11/site-packages/sklearn/linear_model/_coordinate_descent.py:614: ConvergenceWarning: Objective did not converge. You might want to increase the number of iterations. Duality gap: 3.959888727949874, tolerance: 2.6296718827105736\n",
      "  model = cd_fast.enet_coordinate_descent_gram(\n",
      "/Users/staff/anaconda3/lib/python3.11/site-packages/sklearn/linear_model/_coordinate_descent.py:614: ConvergenceWarning: Objective did not converge. You might want to increase the number of iterations. Duality gap: 15.602585711793836, tolerance: 2.6296718827105736\n",
      "  model = cd_fast.enet_coordinate_descent_gram(\n",
      "/Users/staff/anaconda3/lib/python3.11/site-packages/sklearn/linear_model/_coordinate_descent.py:614: ConvergenceWarning: Objective did not converge. You might want to increase the number of iterations. Duality gap: 21.361958147535006, tolerance: 2.6296718827105736\n",
      "  model = cd_fast.enet_coordinate_descent_gram(\n",
      "/Users/staff/anaconda3/lib/python3.11/site-packages/sklearn/linear_model/_coordinate_descent.py:614: ConvergenceWarning: Objective did not converge. You might want to increase the number of iterations. Duality gap: 26.083399350163745, tolerance: 2.6296718827105736\n",
      "  model = cd_fast.enet_coordinate_descent_gram(\n",
      "/Users/staff/anaconda3/lib/python3.11/site-packages/sklearn/linear_model/_coordinate_descent.py:614: ConvergenceWarning: Objective did not converge. You might want to increase the number of iterations. Duality gap: 25.776825585070583, tolerance: 2.6296718827105736\n",
      "  model = cd_fast.enet_coordinate_descent_gram(\n",
      "/Users/staff/anaconda3/lib/python3.11/site-packages/sklearn/linear_model/_coordinate_descent.py:614: ConvergenceWarning: Objective did not converge. You might want to increase the number of iterations. Duality gap: 22.395707073718768, tolerance: 2.6296718827105736\n",
      "  model = cd_fast.enet_coordinate_descent_gram(\n",
      "/Users/staff/anaconda3/lib/python3.11/site-packages/sklearn/linear_model/_coordinate_descent.py:614: ConvergenceWarning: Objective did not converge. You might want to increase the number of iterations. Duality gap: 17.42339802292463, tolerance: 2.6296718827105736\n",
      "  model = cd_fast.enet_coordinate_descent_gram(\n"
     ]
    }
   ],
   "source": [
    "# Xs = X - X.mean(0)[None,:]\n",
    "lambdas, soln_array = skl.Lasso.path(X, Y, l1_ratio=1,n_alphas=100)[:2]"
   ]
  }
 ],
 "metadata": {
  "kernelspec": {
   "display_name": "base",
   "language": "python",
   "name": "python3"
  },
  "language_info": {
   "codemirror_mode": {
    "name": "ipython",
    "version": 3
   },
   "file_extension": ".py",
   "mimetype": "text/x-python",
   "name": "python",
   "nbconvert_exporter": "python",
   "pygments_lexer": "ipython3",
   "version": "3.11.5"
  }
 },
 "nbformat": 4,
 "nbformat_minor": 2
}
